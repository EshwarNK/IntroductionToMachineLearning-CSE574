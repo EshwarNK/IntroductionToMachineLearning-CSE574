{
 "cells": [
  {
   "cell_type": "markdown",
   "metadata": {},
   "source": [
    "# CSE474/574 - Programming Assignment 2"
   ]
  },
  {
   "cell_type": "markdown",
   "metadata": {},
   "source": [
    "## Part 3 - Image Classification with Deep[er] neural networks\n",
    "\n",
    "For this part, we will use `keras` with a `tensorflow` backend, instead of directly using `tensorflow`, as in Part 1. See [here](https://anaconda.org/conda-forge/keras) for installation instructions."
   ]
  },
  {
   "cell_type": "code",
   "execution_count": 1,
   "metadata": {},
   "outputs": [
    {
     "ename": "ModuleNotFoundError",
     "evalue": "No module named 'keras'",
     "output_type": "error",
     "traceback": [
      "\u001b[1;31m---------------------------------------------------------------------------\u001b[0m",
      "\u001b[1;31mModuleNotFoundError\u001b[0m                       Traceback (most recent call last)",
      "\u001b[1;32m<ipython-input-1-797fdddc3bde>\u001b[0m in \u001b[0;36m<module>\u001b[1;34m\u001b[0m\n\u001b[0;32m      1\u001b[0m \u001b[1;32mfrom\u001b[0m \u001b[0m__future__\u001b[0m \u001b[1;32mimport\u001b[0m \u001b[0mprint_function\u001b[0m\u001b[1;33m\u001b[0m\u001b[1;33m\u001b[0m\u001b[0m\n\u001b[1;32m----> 2\u001b[1;33m \u001b[1;32mfrom\u001b[0m \u001b[0mkeras\u001b[0m\u001b[1;33m.\u001b[0m\u001b[0mmodels\u001b[0m \u001b[1;32mimport\u001b[0m \u001b[0mSequential\u001b[0m\u001b[1;33m\u001b[0m\u001b[1;33m\u001b[0m\u001b[0m\n\u001b[0m\u001b[0;32m      3\u001b[0m \u001b[1;32mfrom\u001b[0m \u001b[0mkeras\u001b[0m\u001b[1;33m.\u001b[0m\u001b[0mlayers\u001b[0m \u001b[1;32mimport\u001b[0m \u001b[0mDense\u001b[0m\u001b[1;33m,\u001b[0m \u001b[0mActivation\u001b[0m\u001b[1;33m\u001b[0m\u001b[1;33m\u001b[0m\u001b[0m\n\u001b[0;32m      4\u001b[0m \u001b[1;33m\u001b[0m\u001b[0m\n\u001b[0;32m      5\u001b[0m \u001b[1;32mimport\u001b[0m \u001b[0mnumpy\u001b[0m \u001b[1;32mas\u001b[0m \u001b[0mnp\u001b[0m\u001b[1;33m\u001b[0m\u001b[1;33m\u001b[0m\u001b[0m\n",
      "\u001b[1;31mModuleNotFoundError\u001b[0m: No module named 'keras'"
     ]
    }
   ],
   "source": [
    "from __future__ import print_function\n",
    "from keras.models import Sequential\n",
    "from keras.layers import Dense, Activation\n",
    "\n",
    "import numpy as np\n",
    "import random as rd\n",
    "import time\n",
    "import pickle\n",
    "import os\n",
    "from PIL import Image\n",
    "#os.environ[\"CUDA_VISIBLE_DEVICES\"]=\"1\"\n",
    "import matplotlib.pyplot as plt\n",
    "%matplotlib inline"
   ]
  },
  {
   "cell_type": "code",
   "execution_count": 9,
   "metadata": {},
   "outputs": [],
   "source": [
    "classes = ['apple', 'airplane', 'basketball', 'axe', 'banana', 'horse', 'arm', 'alarm clock', 'ant', 'bed']"
   ]
  },
  {
   "cell_type": "code",
   "execution_count": 10,
   "metadata": {},
   "outputs": [
    {
     "ename": "NameError",
     "evalue": "name 'pickle' is not defined",
     "output_type": "error",
     "traceback": [
      "\u001b[1;31m---------------------------------------------------------------------------\u001b[0m",
      "\u001b[1;31mNameError\u001b[0m                                 Traceback (most recent call last)",
      "\u001b[1;32m<ipython-input-10-2752032111c5>\u001b[0m in \u001b[0;36m<module>\u001b[1;34m\u001b[0m\n\u001b[0;32m      1\u001b[0m \u001b[1;31m# load data\u001b[0m\u001b[1;33m\u001b[0m\u001b[1;33m\u001b[0m\u001b[1;33m\u001b[0m\u001b[0m\n\u001b[1;32m----> 2\u001b[1;33m \u001b[0mtrain_data\u001b[0m\u001b[1;33m,\u001b[0m\u001b[0mtrain_label\u001b[0m\u001b[1;33m,\u001b[0m\u001b[0mtest_data\u001b[0m\u001b[1;33m,\u001b[0m\u001b[0mtest_label\u001b[0m \u001b[1;33m=\u001b[0m \u001b[0mpickle\u001b[0m\u001b[1;33m.\u001b[0m\u001b[0mload\u001b[0m\u001b[1;33m(\u001b[0m\u001b[0mopen\u001b[0m\u001b[1;33m(\u001b[0m\u001b[1;34m'AI_quick_draw_sm.pickle'\u001b[0m\u001b[1;33m,\u001b[0m\u001b[1;34m'rb'\u001b[0m\u001b[1;33m)\u001b[0m\u001b[1;33m)\u001b[0m\u001b[1;33m\u001b[0m\u001b[1;33m\u001b[0m\u001b[0m\n\u001b[0m",
      "\u001b[1;31mNameError\u001b[0m: name 'pickle' is not defined"
     ]
    }
   ],
   "source": [
    "# load data\n",
    "train_data,train_label,test_data,test_label = pickle.load(open('AI_quick_draw_sm.pickle','rb'))"
   ]
  },
  {
   "cell_type": "code",
   "execution_count": 4,
   "metadata": {},
   "outputs": [],
   "source": [
    "# for some macosx installations, conflicting copies of mpilib causes trouble with tensorflow.\n",
    "# use the following two lines to resolve that issue\n",
    "import os\n",
    "os.environ['KMP_DUPLICATE_LIB_OK']='True'"
   ]
  },
  {
   "cell_type": "code",
   "execution_count": 5,
   "metadata": {},
   "outputs": [],
   "source": [
    "n_classes = len(np.unique(train_label))\n",
    "# convert labels to 0-1 hot encoding\n",
    "train_label_01 = np.zeros((train_label.shape[0], n_classes))\n",
    "a = np.arange(train_label.shape[0], dtype=np.int64)\n",
    "b = np.array(train_label, dtype=np.int64).reshape((train_label.shape[0],))\n",
    "train_label_01[a, b] = 1\n",
    "\n",
    "test_label_01 = np.zeros((test_label.shape[0], n_classes))\n",
    "c = np.arange(test_label.shape[0], dtype=np.int64)\n",
    "d = np.array(test_label, dtype=np.int64).reshape((test_label.shape[0],))\n",
    "test_label_01[c, d] = 1"
   ]
  },
  {
   "cell_type": "markdown",
   "metadata": {},
   "source": [
    "**WARNING**: This cell will take a significantly long time to run"
   ]
  },
  {
   "cell_type": "code",
   "execution_count": 6,
   "metadata": {
    "scrolled": true
   },
   "outputs": [],
   "source": [
    "model = Sequential()\n",
    "M = 60\n",
    "L = 3\n",
    "# activation = 'sigmoid' \n",
    "activation = 'relu' \n",
    "# activation = 'tanh'\n",
    "# this is the first hidden layer\n",
    "model.add(Dense(M, activation=activation, input_dim=train_data.shape[1]))\n",
    "# you can add more Dense layers here\n",
    "for l in range(1,L):\n",
    "    model.add(Dense(M, activation=activation, input_dim=M))\n",
    "# this is the output layer\n",
    "model.add(Dense(n_classes, activation='softmax'))\n",
    "model.compile(optimizer='rmsprop',\n",
    "              loss='categorical_crossentropy',\n",
    "              metrics=['accuracy'])"
   ]
  },
  {
   "cell_type": "code",
   "execution_count": 7,
   "metadata": {},
   "outputs": [
    {
     "name": "stdout",
     "output_type": "stream",
     "text": [
      "Model: \"sequential\"\n",
      "_________________________________________________________________\n",
      "Layer (type)                 Output Shape              Param #   \n",
      "=================================================================\n",
      "dense (Dense)                (None, 60)                47100     \n",
      "_________________________________________________________________\n",
      "dense_1 (Dense)              (None, 60)                3660      \n",
      "_________________________________________________________________\n",
      "dense_2 (Dense)              (None, 60)                3660      \n",
      "_________________________________________________________________\n",
      "dense_3 (Dense)              (None, 10)                610       \n",
      "=================================================================\n",
      "Total params: 55,030\n",
      "Trainable params: 55,030\n",
      "Non-trainable params: 0\n",
      "_________________________________________________________________\n"
     ]
    }
   ],
   "source": [
    "model.summary()"
   ]
  },
  {
   "cell_type": "code",
   "execution_count": 8,
   "metadata": {},
   "outputs": [
    {
     "name": "stdout",
     "output_type": "stream",
     "text": [
      "Epoch 1/50\n",
      "782/782 [==============================] - 1s 607us/step - loss: 5.7976 - accuracy: 0.3440\n",
      "Epoch 2/50\n",
      "782/782 [==============================] - 0s 575us/step - loss: 1.2513 - accuracy: 0.6149\n",
      "Epoch 3/50\n",
      "782/782 [==============================] - 0s 571us/step - loss: 1.0131 - accuracy: 0.6953\n",
      "Epoch 4/50\n",
      "782/782 [==============================] - 0s 573us/step - loss: 0.9103 - accuracy: 0.7291\n",
      "Epoch 5/50\n",
      "782/782 [==============================] - 0s 580us/step - loss: 0.8484 - accuracy: 0.7466\n",
      "Epoch 6/50\n",
      "782/782 [==============================] - 0s 633us/step - loss: 0.8281 - accuracy: 0.7608\n",
      "Epoch 7/50\n",
      "782/782 [==============================] - 1s 718us/step - loss: 0.7973 - accuracy: 0.7703\n",
      "Epoch 8/50\n",
      "782/782 [==============================] - 0s 633us/step - loss: 0.7499 - accuracy: 0.7741\n",
      "Epoch 9/50\n",
      "782/782 [==============================] - 0s 587us/step - loss: 0.7433 - accuracy: 0.7844\n",
      "Epoch 10/50\n",
      "782/782 [==============================] - 0s 585us/step - loss: 0.7187 - accuracy: 0.7921\n",
      "Epoch 11/50\n",
      "782/782 [==============================] - 0s 586us/step - loss: 0.6940 - accuracy: 0.8008\n",
      "Epoch 12/50\n",
      "782/782 [==============================] - 0s 604us/step - loss: 0.6909 - accuracy: 0.8078\n",
      "Epoch 13/50\n",
      "782/782 [==============================] - 0s 619us/step - loss: 0.6758 - accuracy: 0.8117\n",
      "Epoch 14/50\n",
      "782/782 [==============================] - 0s 582us/step - loss: 0.6495 - accuracy: 0.8177\n",
      "Epoch 15/50\n",
      "782/782 [==============================] - 0s 627us/step - loss: 0.6274 - accuracy: 0.8209\n",
      "Epoch 16/50\n",
      "782/782 [==============================] - 0s 589us/step - loss: 0.6156 - accuracy: 0.8275\n",
      "Epoch 17/50\n",
      "782/782 [==============================] - 0s 603us/step - loss: 0.6120 - accuracy: 0.8307\n",
      "Epoch 18/50\n",
      "782/782 [==============================] - 0s 628us/step - loss: 0.6073 - accuracy: 0.8296\n",
      "Epoch 19/50\n",
      "782/782 [==============================] - 1s 702us/step - loss: 0.5822 - accuracy: 0.8370\n",
      "Epoch 20/50\n",
      "782/782 [==============================] - 0s 605us/step - loss: 0.5765 - accuracy: 0.8427\n",
      "Epoch 21/50\n",
      "782/782 [==============================] - 0s 614us/step - loss: 0.5531 - accuracy: 0.8424\n",
      "Epoch 22/50\n",
      "782/782 [==============================] - 0s 596us/step - loss: 0.5518 - accuracy: 0.8454\n",
      "Epoch 23/50\n",
      "782/782 [==============================] - 0s 595us/step - loss: 0.5627 - accuracy: 0.8433\n",
      "Epoch 24/50\n",
      "782/782 [==============================] - 0s 601us/step - loss: 0.5417 - accuracy: 0.8450\n",
      "Epoch 25/50\n",
      "782/782 [==============================] - 0s 592us/step - loss: 0.5479 - accuracy: 0.8488\n",
      "Epoch 26/50\n",
      "782/782 [==============================] - 1s 656us/step - loss: 0.5404 - accuracy: 0.8503\n",
      "Epoch 27/50\n",
      "782/782 [==============================] - 0s 612us/step - loss: 0.5665 - accuracy: 0.8499\n",
      "Epoch 28/50\n",
      "782/782 [==============================] - 0s 611us/step - loss: 0.5285 - accuracy: 0.8533\n",
      "Epoch 29/50\n",
      "782/782 [==============================] - 0s 628us/step - loss: 0.5263 - accuracy: 0.8527\n",
      "Epoch 30/50\n",
      "782/782 [==============================] - 0s 636us/step - loss: 0.5076 - accuracy: 0.8578\n",
      "Epoch 31/50\n",
      "782/782 [==============================] - 0s 608us/step - loss: 0.5395 - accuracy: 0.8487\n",
      "Epoch 32/50\n",
      "782/782 [==============================] - 1s 649us/step - loss: 0.5324 - accuracy: 0.8539\n",
      "Epoch 33/50\n",
      "782/782 [==============================] - 0s 597us/step - loss: 0.5276 - accuracy: 0.8542\n",
      "Epoch 34/50\n",
      "782/782 [==============================] - 0s 601us/step - loss: 0.5349 - accuracy: 0.8520\n",
      "Epoch 35/50\n",
      "782/782 [==============================] - 0s 595us/step - loss: 0.5369 - accuracy: 0.8555\n",
      "Epoch 36/50\n",
      "782/782 [==============================] - 1s 644us/step - loss: 0.5650 - accuracy: 0.8516\n",
      "Epoch 37/50\n",
      "782/782 [==============================] - 0s 602us/step - loss: 0.5636 - accuracy: 0.8479\n",
      "Epoch 38/50\n",
      "782/782 [==============================] - 0s 595us/step - loss: 0.5676 - accuracy: 0.8496\n",
      "Epoch 39/50\n",
      "782/782 [==============================] - 0s 604us/step - loss: 0.5408 - accuracy: 0.8526\n",
      "Epoch 40/50\n",
      "782/782 [==============================] - 0s 599us/step - loss: 0.5811 - accuracy: 0.8538\n",
      "Epoch 41/50\n",
      "782/782 [==============================] - 0s 637us/step - loss: 0.5951 - accuracy: 0.8500\n",
      "Epoch 42/50\n",
      "782/782 [==============================] - 1s 735us/step - loss: 0.5715 - accuracy: 0.8494\n",
      "Epoch 43/50\n",
      "782/782 [==============================] - 0s 633us/step - loss: 0.5908 - accuracy: 0.8482\n",
      "Epoch 44/50\n",
      "782/782 [==============================] - 0s 600us/step - loss: 0.6171 - accuracy: 0.8418\n",
      "Epoch 45/50\n",
      "782/782 [==============================] - 0s 605us/step - loss: 0.6317 - accuracy: 0.8358\n",
      "Epoch 46/50\n",
      "782/782 [==============================] - 0s 600us/step - loss: 0.6761 - accuracy: 0.8402\n",
      "Epoch 47/50\n",
      "782/782 [==============================] - 0s 609us/step - loss: 0.5883 - accuracy: 0.8449\n",
      "Epoch 48/50\n",
      "782/782 [==============================] - 0s 596us/step - loss: 0.6638 - accuracy: 0.8422\n",
      "Epoch 49/50\n",
      "782/782 [==============================] - 0s 615us/step - loss: 0.6422 - accuracy: 0.8354\n",
      "Epoch 50/50\n",
      "782/782 [==============================] - 0s 603us/step - loss: 0.6380 - accuracy: 0.8327\n",
      "Training completed in 24.56 seconds.\n"
     ]
    }
   ],
   "source": [
    "st = time.time()\n",
    "model.fit(train_data, train_label_01, epochs=50, batch_size=32)\n",
    "en = time.time()\n",
    "print(\"Training completed in {:.2f} seconds.\".format(en-st))"
   ]
  },
  {
   "cell_type": "code",
   "execution_count": 9,
   "metadata": {},
   "outputs": [
    {
     "name": "stderr",
     "output_type": "stream",
     "text": [
      "C:\\Users\\chand\\AppData\\Roaming\\Python\\Python38\\site-packages\\tensorflow\\python\\keras\\engine\\sequential.py:450: UserWarning: `model.predict_classes()` is deprecated and will be removed after 2021-01-01. Please use instead:* `np.argmax(model.predict(x), axis=-1)`,   if your model does multi-class classification   (e.g. if it uses a `softmax` last-layer activation).* `(model.predict(x) > 0.5).astype(\"int32\")`,   if your model does binary classification   (e.g. if it uses a `sigmoid` last-layer activation).\n",
      "  warnings.warn('`model.predict_classes()` is deprecated and '\n"
     ]
    },
    {
     "name": "stdout",
     "output_type": "stream",
     "text": [
      "Training set Accuracy: 81.40%\n",
      "Testing set Accuracy : 71.27%\n"
     ]
    }
   ],
   "source": [
    "train_predicted = model.predict_classes(train_data)\n",
    "acc_train = np.where(train_label == train_predicted)[0].shape[0]/train_data.shape[0]\n",
    "print('Training set Accuracy: {:.2f}%'.format(100 * acc_train))\n",
    "\n",
    "test_predicted = model.predict_classes(test_data)\n",
    "acc_test = np.where(test_label == test_predicted)[0].shape[0]/test_data.shape[0]\n",
    "print('Testing set Accuracy : {:.2f}%'.format(100 * acc_test))"
   ]
  }
 ],
 "metadata": {
  "kernelspec": {
   "display_name": "Python 3",
   "language": "python",
   "name": "python3"
  },
  "language_info": {
   "codemirror_mode": {
    "name": "ipython",
    "version": 3
   },
   "file_extension": ".py",
   "mimetype": "text/x-python",
   "name": "python",
   "nbconvert_exporter": "python",
   "pygments_lexer": "ipython3",
   "version": "3.8.5"
  }
 },
 "nbformat": 4,
 "nbformat_minor": 4
}
